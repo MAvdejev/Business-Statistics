{
 "cells": [
  {
   "cell_type": "code",
   "execution_count": 304,
   "metadata": {},
   "outputs": [],
   "source": [
    "import pandas as pd\n",
    "import researchpy as rp\n",
    "import statsmodels.api as sm\n",
    "import scipy.stats as stats\n",
    "import matplotlib.pyplot as plt\n",
    "from scipy import stats"
   ]
  },
  {
   "cell_type": "code",
   "execution_count": 305,
   "metadata": {},
   "outputs": [
    {
     "name": "stdout",
     "output_type": "stream",
     "text": [
      "      age     sex   bmi  children smoker     region  expenses\n",
      "0      19  female  27.9         0    yes  southwest  16884.92\n",
      "1      18    male  33.8         1     no  southeast   1725.55\n",
      "2      28    male  33.0         3     no  southeast   4449.46\n",
      "3      33    male  22.7         0     no  northwest  21984.47\n",
      "4      32    male  28.9         0     no  northwest   3866.86\n",
      "...   ...     ...   ...       ...    ...        ...       ...\n",
      "1333   50    male  31.0         3     no  northwest  10600.55\n",
      "1334   18  female  31.9         0     no  northeast   2205.98\n",
      "1335   18  female  36.9         0     no  southeast   1629.83\n",
      "1336   21  female  25.8         0     no  southwest   2007.95\n",
      "1337   61  female  29.1         0    yes  northwest  29141.36\n",
      "\n",
      "[1338 rows x 7 columns]\n"
     ]
    }
   ],
   "source": [
    "# Load the dataset and create a DataFrame\n",
    "df = pd.read_csv('insurance.csv')\n",
    "\n",
    "# Display the data\n",
    "print(df)"
   ]
  },
  {
   "cell_type": "code",
   "execution_count": 306,
   "metadata": {},
   "outputs": [
    {
     "name": "stdout",
     "output_type": "stream",
     "text": [
      "<class 'pandas.core.frame.DataFrame'>\n",
      "RangeIndex: 1338 entries, 0 to 1337\n",
      "Data columns (total 7 columns):\n",
      " #   Column    Non-Null Count  Dtype  \n",
      "---  ------    --------------  -----  \n",
      " 0   age       1338 non-null   int64  \n",
      " 1   sex       1338 non-null   object \n",
      " 2   bmi       1338 non-null   float64\n",
      " 3   children  1338 non-null   int64  \n",
      " 4   smoker    1338 non-null   object \n",
      " 5   region    1338 non-null   object \n",
      " 6   expenses  1338 non-null   float64\n",
      "dtypes: float64(2), int64(2), object(3)\n",
      "memory usage: 73.3+ KB\n"
     ]
    }
   ],
   "source": [
    " # Check what is in the dataset\n",
    "df.info()"
   ]
  },
  {
   "cell_type": "code",
   "execution_count": 307,
   "metadata": {},
   "outputs": [
    {
     "name": "stdout",
     "output_type": "stream",
     "text": [
      "      age     sex   bmi  children smoker     region  expenses\n",
      "0      19  female  27.9         0    yes  southwest  16884.92\n",
      "1      18    male  33.8         1     no  southeast   1725.55\n",
      "2      28    male  33.0         3     no  southeast   4449.46\n",
      "3      33    male  22.7         0     no  northwest  21984.47\n",
      "4      32    male  28.9         0     no  northwest   3866.86\n",
      "...   ...     ...   ...       ...    ...        ...       ...\n",
      "1333   50    male  31.0         3     no  northwest  10600.55\n",
      "1334   18  female  31.9         0     no  northeast   2205.98\n",
      "1335   18  female  36.9         0     no  southeast   1629.83\n",
      "1336   21  female  25.8         0     no  southwest   2007.95\n",
      "1337   61  female  29.1         0    yes  northwest  29141.36\n",
      "\n",
      "[1338 rows x 7 columns]\n",
      "Summary of Missing Values:\n",
      "age         0\n",
      "sex         0\n",
      "bmi         0\n",
      "children    0\n",
      "smoker      0\n",
      "region      0\n",
      "expenses    0\n",
      "dtype: int64\n"
     ]
    }
   ],
   "source": [
    "# Check for missing values\n",
    "missing_values = df.isnull().sum()\n",
    "\n",
    "# Drop rows with missing values\n",
    "df = df.dropna()\n",
    "\n",
    "# Display the cleaned DataFrame\n",
    "print(df)\n",
    "\n",
    "# Display the summary of missing values (if any)\n",
    "print(\"Summary of Missing Values:\")\n",
    "print(missing_values)"
   ]
  },
  {
   "cell_type": "code",
   "execution_count": 308,
   "metadata": {},
   "outputs": [
    {
     "name": "stdout",
     "output_type": "stream",
     "text": [
      "Variable: age    Data Type: int64 \n",
      "\n",
      " Number of Obs.: 1338 \n",
      " Number of missing obs.: 0 \n",
      " Percent missing: 0.0 \n",
      " Number of unique values: 47 \n",
      "\n",
      " Range: [18, 64] \n",
      " Mean: 39.21 \n",
      " Standard Deviation: 14.05 \n",
      " Mode: 18 \n",
      " 10th Percentile: 19.0 \n",
      " 25th Percentile: 27.0 \n",
      " 50th Percentile: 39.0 \n",
      " 75th Percentile: 51.0 \n",
      " 90th Percentile: 59.0 \n",
      "\n",
      "\n",
      "\n",
      "\n",
      "\n",
      "Variable: sex    Data Type: object \n",
      "\n",
      " Number of Obs.: 1338 \n",
      " Number of missing obs.: 0 \n",
      " Percent missing: 0.0 \n",
      " Number of unique values: 2 \n",
      "\n",
      " Data Values and Counts: \n",
      " \n",
      " Values  Frequency\n",
      "female        662\n",
      "  male        676\n",
      "\n",
      "\n",
      "\n",
      "\n",
      "Variable: bmi    Data Type: float64 \n",
      "\n",
      " Number of Obs.: 1338 \n",
      " Number of missing obs.: 0 \n",
      " Percent missing: 0.0 \n",
      " Number of unique values: 275 \n",
      "\n",
      " Range: [16.0, 53.1] \n",
      " Mean: 30.67 \n",
      " Standard Deviation: 6.1 \n",
      " Mode: 27.6 \n",
      " 10th Percentile: 23.0 \n",
      " 25th Percentile: 26.3 \n",
      " 50th Percentile: 30.4 \n",
      " 75th Percentile: 34.7 \n",
      " 90th Percentile: 38.629999999999995 \n",
      "\n",
      "\n",
      "\n",
      "\n",
      "\n",
      "Variable: children    Data Type: int64 \n",
      "\n",
      " Number of Obs.: 1338 \n",
      " Number of missing obs.: 0 \n",
      " Percent missing: 0.0 \n",
      " Number of unique values: 6 \n",
      "\n",
      " Range: [0, 5] \n",
      " Mean: 1.09 \n",
      " Standard Deviation: 1.21 \n",
      " Mode: 0 \n",
      " 10th Percentile: 0.0 \n",
      " 25th Percentile: 0.0 \n",
      " 50th Percentile: 1.0 \n",
      " 75th Percentile: 2.0 \n",
      " 90th Percentile: 3.0 \n",
      "\n",
      "\n",
      "\n",
      "\n",
      "\n",
      "Variable: smoker    Data Type: object \n",
      "\n",
      " Number of Obs.: 1338 \n",
      " Number of missing obs.: 0 \n",
      " Percent missing: 0.0 \n",
      " Number of unique values: 2 \n",
      "\n",
      " Data Values and Counts: \n",
      " \n",
      " Values  Frequency\n",
      "    no       1064\n",
      "   yes        274\n",
      "\n",
      "\n",
      "\n",
      "\n",
      "Variable: region    Data Type: object \n",
      "\n",
      " Number of Obs.: 1338 \n",
      " Number of missing obs.: 0 \n",
      " Percent missing: 0.0 \n",
      " Number of unique values: 4 \n",
      "\n",
      " Data Values and Counts: \n",
      " \n",
      "    Values  Frequency\n",
      "northeast        324\n",
      "northwest        325\n",
      "southeast        364\n",
      "southwest        325\n",
      "\n",
      "\n",
      "\n",
      "\n",
      "Variable: expenses    Data Type: float64 \n",
      "\n",
      " Number of Obs.: 1338 \n",
      " Number of missing obs.: 0 \n",
      " Percent missing: 0.0 \n",
      " Number of unique values: 1337 \n",
      "\n",
      " Range: [1121.87, 63770.43] \n",
      " Mean: 13270.42 \n",
      " Standard Deviation: 12110.01 \n",
      " Mode: 1639.56 \n",
      " 10th Percentile: 2346.5350000000003 \n",
      " 25th Percentile: 4740.2875 \n",
      " 50th Percentile: 9382.029999999999 \n",
      " 75th Percentile: 16639.915 \n",
      " 90th Percentile: 34831.716 \n",
      "\n",
      "\n",
      "\n",
      "\n",
      "\n"
     ]
    }
   ],
   "source": [
    "# get a better understanding of the data\n",
    "rp.codebook(df)"
   ]
  },
  {
   "cell_type": "markdown",
   "metadata": {},
   "source": [
    "# SQ4: Is there a relationship between smoking status and insurance expenses?\n",
    "Hypothesis:\n",
    "\n",
    "\n",
    "H0: Smoking status does not have an effect on insurance expenses (μ1 = μ2)\n",
    "\n",
    "\n",
    "HA: Smoking status has an effect on insurance expenses (μ1 ≠ μ2)"
   ]
  },
  {
   "cell_type": "code",
   "execution_count": 309,
   "metadata": {},
   "outputs": [
    {
     "name": "stdout",
     "output_type": "stream",
     "text": [
      "no     1064\n",
      "yes     274\n",
      "Name: smoker, dtype: int64\n",
      "The samples are imbalanced\n"
     ]
    }
   ],
   "source": [
    "\n",
    "# Check how many values there are in the smoker column\n",
    "smoker_counts = df['smoker'].value_counts()\n",
    "\n",
    "print (smoker_counts)\n",
    "print ('The samples are imbalanced')"
   ]
  },
  {
   "cell_type": "code",
   "execution_count": 310,
   "metadata": {},
   "outputs": [
    {
     "name": "stdout",
     "output_type": "stream",
     "text": [
      "Mean Expenses:\n",
      "smoker\n",
      "no      8434.268449\n",
      "yes    32050.231971\n",
      "Name: expenses, dtype: float64\n",
      "\n",
      "Median Expenses:\n",
      "smoker\n",
      "no      7345.405\n",
      "yes    34456.350\n",
      "Name: expenses, dtype: float64\n"
     ]
    }
   ],
   "source": [
    "# Calculate the mean and the median\n",
    "mean_expenses_by_smoker = df.groupby('smoker')['expenses'].mean()\n",
    "median_expenses_by_smoker = df.groupby('smoker')['expenses'].median()\n",
    "\n",
    "# Display the mean and median expenses for 'yes' and 'no' categories\n",
    "print(\"Mean Expenses:\")\n",
    "print(mean_expenses_by_smoker)\n",
    "\n",
    "print(\"\\nMedian Expenses:\") # \"\\n\" = Line break \n",
    "print(median_expenses_by_smoker)"
   ]
  },
  {
   "cell_type": "code",
   "execution_count": 311,
   "metadata": {},
   "outputs": [
    {
     "name": "stdout",
     "output_type": "stream",
     "text": [
      "Reject the null hypothesis (H0): Smoking status does not have an effect on insurance expenses (μ1 = μ2).\n",
      "Fail to reject the alternative hypothesis (HA): Smoking status has an effect on insurance expenses (μ1 ≠ μ2).\n",
      "T-Statistic: 46.6649210792002\n",
      "P-Value: 8.271449574495316e-283\n"
     ]
    }
   ],
   "source": [
    "## Two-sample t-test\n",
    "\n",
    "# Separate the data for smokers and non-smokers\n",
    "expenses_smokers = df[df['smoker'] == 'yes']['expenses']\n",
    "expenses_non_smokers = df[df['smoker'] == 'no']['expenses']\n",
    "\n",
    "# Perform a two-sample t-test\n",
    "t_stat, p_value = stats.ttest_ind(expenses_smokers, expenses_non_smokers)\n",
    "\n",
    "# Define your significance level (alpha)\n",
    "alpha = 0.05\n",
    "\n",
    "# Output the results based on my hypotheses\n",
    "if p_value < alpha:\n",
    "    print(\"Reject the null hypothesis (H0): Smoking status does not have an effect on insurance expenses (μ1 = μ2).\")\n",
    "    print(\"Fail to reject the alternative hypothesis (HA): Smoking status has an effect on insurance expenses (μ1 ≠ μ2).\")\n",
    "else:\n",
    "    print(\"Fail to reject the null hypothesis (H0): Smoking status does not have an effect on insurance expenses (μ1 = μ2).\")\n",
    "    print(\"There is no evidence to support the alternative hypothesis (HA).\")\n",
    "\n",
    "# Print the t-statistic and p-value\n",
    "print(\"T-Statistic:\", t_stat)\n",
    "print(\"P-Value:\", p_value)"
   ]
  },
  {
   "cell_type": "code",
   "execution_count": 312,
   "metadata": {},
   "outputs": [
    {
     "data": {
      "image/png": "[encoded data removed]",
      "text/plain": [
       "<Figure size 600x400 with 1 Axes>"
      ]
     },
     "metadata": {},
     "output_type": "display_data"
    },
    {
     "name": "stdout",
     "output_type": "stream",
     "text": [
      "T-Statistic: 46.6649210792002\n",
      "P-Value: 8.271449574495316e-283\n"
     ]
    }
   ],
   "source": [
    "## Visualization of Two-sample t-test\n",
    "\n",
    "# Separate the data for smokers and non-smokers\n",
    "expenses_smokers = df[df['smoker'] == 'yes']['expenses']\n",
    "expenses_non_smokers = df[df['smoker'] == 'no']['expenses']\n",
    "\n",
    "# Perform a two-sample t-test\n",
    "t_stat, p_value = stats.ttest_ind(expenses_smokers, expenses_non_smokers)\n",
    "\n",
    "# Define your significance level (alpha)\n",
    "alpha = 0.05\n",
    "\n",
    "# Output the results based on my hypotheses\n",
    "if p_value < alpha:\n",
    "    result = \"Reject\"\n",
    "else:\n",
    "    result = \"Fail to reject\"\n",
    "\n",
    "# Create a bar chart to visualize the results\n",
    "plt.figure(figsize=(6, 4))\n",
    "plt.bar(['Smokers', 'Non-Smokers'], [expenses_smokers.mean(), expenses_non_smokers.mean()], alpha=0.7)\n",
    "plt.xlabel('Group')\n",
    "plt.ylabel('Mean Expenses')\n",
    "plt.title(f'Mean Expenses Comparison ({result} H0)')\n",
    "plt.axhline(y=expenses_smokers.mean(), color='blue', linestyle='--', label='Smokers')\n",
    "plt.axhline(y=expenses_non_smokers.mean(), color='orange', linestyle='--', label='Non-Smokers')\n",
    "plt.legend()\n",
    "plt.show()\n",
    "\n",
    "# Print the t-statistic and p-value\n",
    "print(\"T-Statistic:\", t_stat)\n",
    "print(\"P-Value:\", p_value)"
   ]
  },
  {
   "cell_type": "markdown",
   "metadata": {},
   "source": [
    "Eventhough the results of the two sample t-test suggest to Reject the null hypothesis (H0), and Fail to reject the alternative hypothesis (HA). However, it is evident that the sample is imbalanced, and two-sample t-test is less robust with imbalanced samples . Therefore it is suggest to perform the Welch's t-test, as it is more reliable with imbalanced sample sizes."
   ]
  },
  {
   "cell_type": "code",
   "execution_count": 313,
   "metadata": {},
   "outputs": [
    {
     "name": "stdout",
     "output_type": "stream",
     "text": [
      "Reject the null hypothesis (H0): Smoking status does not have an effect on insurance expenses (μ1 = μ2).\n",
      "There is strong evidence to support the alternative hypothesis (HA): Smoking status has an effect on insurance expenses (μ1 ≠ μ2).\n",
      "T-Statistic: 32.751887340417625\n",
      "P-Value: 5.889487102677626e-103\n"
     ]
    }
   ],
   "source": [
    "## Welch's t-test\n",
    "\n",
    "# Separate the data for smokers and non-smokers\n",
    "expenses_smokers = df[df['smoker'] == 'yes']['expenses']\n",
    "expenses_non_smokers = df[df['smoker'] == 'no']['expenses']\n",
    "\n",
    "# Perform the Welch's T-Test\n",
    "t_stat, p_value = stats.ttest_ind(expenses_smokers, expenses_non_smokers, equal_var=False)\n",
    "\n",
    "# Define your significance level (alpha)\n",
    "alpha = 0.05\n",
    "\n",
    "# Output the results based on the Welch's T-Test\n",
    "if p_value < alpha:\n",
    "    print(\"Reject the null hypothesis (H0): Smoking status does not have an effect on insurance expenses (μ1 = μ2).\")\n",
    "    print(\"There is strong evidence to support the alternative hypothesis (HA): Smoking status has an effect on insurance expenses (μ1 ≠ μ2).\")\n",
    "else:\n",
    "    print(\"Fail to reject the null hypothesis (H0): Smoking status does not have an effect on insurance expenses (μ1 = μ2).\")\n",
    "    print(\"There is no evidence to support the alternative hypothesis (HA): Smoking status has an effect on insurance expenses (μ1 ≠ μ2).\")\n",
    "\n",
    "# Print the t-statistic and p-value\n",
    "print(\"T-Statistic:\", t_stat)\n",
    "print(\"P-Value:\", p_value)\n"
   ]
  },
  {
   "cell_type": "code",
   "execution_count": 314,
   "metadata": {},
   "outputs": [
    {
     "data": {
      "image/png": "[encoded data removed]",
      "text/plain": [
       "<Figure size 800x600 with 1 Axes>"
      ]
     },
     "metadata": {},
     "output_type": "display_data"
    }
   ],
   "source": [
    "## Visualization of Welch's t-test\n",
    "\n",
    "# Separate the data for smokers and non-smokers\n",
    "expenses_smokers = df[df['smoker'] == 'yes']['expenses']\n",
    "expenses_non_smokers = df[df['smoker'] == 'no']['expenses']\n",
    "\n",
    "# Perform the Welch's T-Test\n",
    "t_stat, p_value = stats.ttest_ind(expenses_smokers, expenses_non_smokers, equal_var=False)\n",
    "\n",
    "# Create a box plot to visualize the data\n",
    "plt.figure(figsize=(8, 6))\n",
    "sns.boxplot(x='smoker', y='expenses', data=df)\n",
    "plt.title(\"Box Plot of Expenses by Smoking Status\")\n",
    "plt.xlabel(\"Smoker\")\n",
    "plt.ylabel(\"Expenses\")\n",
    "\n",
    "# Print the t-statistic and p-value\n",
    "if p_value < 0.05:\n",
    "    plt.text(0.5, 0.9, f'T-Statistic: {t_stat:.2f}\\nP-Value: {p_value:.2e}\\nReject H0', transform=plt.gca().transAxes, fontsize=12)\n",
    "else:\n",
    "    plt.text(0.5, 0.9, f'T-Statistic: {t_stat:.2f}\\nP-Value: {p_value:.2e}\\nFail to Reject H0', transform=plt.gca().transAxes, fontsize=12)\n",
    "\n",
    "plt.show()\n"
   ]
  },
  {
   "cell_type": "markdown",
   "metadata": {},
   "source": [
    "Two sample t-test P-Value: 8.271, whereas, Welch's t-test P-Value: 5.889\n",
    "\n",
    "\n",
    "Eventhough the p-value dropped down, the conclusion did not change, as the p-value is very close to zero:\n",
    "Reject the null hypothesis (H0): Smoking status does not have an effect on insurance expenses (μ1 = μ2).\n",
    "There is strong evidence to support the alternative hypothesis (HA): Smoking status has an effect on insurance expenses (μ1 ≠ μ2)."
   ]
  }
 ],
 "metadata": {
  "kernelspec": {
   "display_name": "base",
   "language": "python",
   "name": "python3"
  },
  "language_info": {
   "codemirror_mode": {
    "name": "ipython",
    "version": 3
   },
   "file_extension": ".py",
   "mimetype": "text/x-python",
   "name": "python",
   "nbconvert_exporter": "python",
   "pygments_lexer": "ipython3",
   "version": "3.11.3"
  },
  "orig_nbformat": 4
 },
 "nbformat": 4,
 "nbformat_minor": 2
}
