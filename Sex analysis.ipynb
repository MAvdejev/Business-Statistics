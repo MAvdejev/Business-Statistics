{
 "cells": [
  {
   "cell_type": "markdown",
   "metadata": {},
   "source": [
    "# Sex analysis"
   ]
  },
  {
   "cell_type": "code",
   "execution_count": 24,
   "metadata": {},
   "outputs": [],
   "source": [
    "# Importing all relevant libraries\n",
    "import pandas as pd\n",
    "import numpy as np\n",
    "import matplotlib.pyplot as plt\n",
    "import scipy.stats as stats\n",
    "import seaborn as sns"
   ]
  },
  {
   "cell_type": "code",
   "execution_count": 25,
   "metadata": {},
   "outputs": [
    {
     "data": {
      "text/html": [
       "<div>\n",
       "<style scoped>\n",
       "    .dataframe tbody tr th:only-of-type {\n",
       "        vertical-align: middle;\n",
       "    }\n",
       "\n",
       "    .dataframe tbody tr th {\n",
       "        vertical-align: top;\n",
       "    }\n",
       "\n",
       "    .dataframe thead th {\n",
       "        text-align: right;\n",
       "    }\n",
       "</style>\n",
       "<table border=\"1\" class=\"dataframe\">\n",
       "  <thead>\n",
       "    <tr style=\"text-align: right;\">\n",
       "      <th></th>\n",
       "      <th>age</th>\n",
       "      <th>sex</th>\n",
       "      <th>bmi</th>\n",
       "      <th>children</th>\n",
       "      <th>smoker</th>\n",
       "      <th>region</th>\n",
       "      <th>expenses</th>\n",
       "    </tr>\n",
       "  </thead>\n",
       "  <tbody>\n",
       "    <tr>\n",
       "      <th>0</th>\n",
       "      <td>19</td>\n",
       "      <td>female</td>\n",
       "      <td>27.9</td>\n",
       "      <td>0</td>\n",
       "      <td>1</td>\n",
       "      <td>southwest</td>\n",
       "      <td>16884.92</td>\n",
       "    </tr>\n",
       "    <tr>\n",
       "      <th>1</th>\n",
       "      <td>18</td>\n",
       "      <td>male</td>\n",
       "      <td>33.8</td>\n",
       "      <td>1</td>\n",
       "      <td>0</td>\n",
       "      <td>southeast</td>\n",
       "      <td>1725.55</td>\n",
       "    </tr>\n",
       "    <tr>\n",
       "      <th>2</th>\n",
       "      <td>28</td>\n",
       "      <td>male</td>\n",
       "      <td>33.0</td>\n",
       "      <td>3</td>\n",
       "      <td>0</td>\n",
       "      <td>southeast</td>\n",
       "      <td>4449.46</td>\n",
       "    </tr>\n",
       "    <tr>\n",
       "      <th>3</th>\n",
       "      <td>33</td>\n",
       "      <td>male</td>\n",
       "      <td>22.7</td>\n",
       "      <td>0</td>\n",
       "      <td>0</td>\n",
       "      <td>northwest</td>\n",
       "      <td>21984.47</td>\n",
       "    </tr>\n",
       "    <tr>\n",
       "      <th>4</th>\n",
       "      <td>32</td>\n",
       "      <td>male</td>\n",
       "      <td>28.9</td>\n",
       "      <td>0</td>\n",
       "      <td>0</td>\n",
       "      <td>northwest</td>\n",
       "      <td>3866.86</td>\n",
       "    </tr>\n",
       "    <tr>\n",
       "      <th>...</th>\n",
       "      <td>...</td>\n",
       "      <td>...</td>\n",
       "      <td>...</td>\n",
       "      <td>...</td>\n",
       "      <td>...</td>\n",
       "      <td>...</td>\n",
       "      <td>...</td>\n",
       "    </tr>\n",
       "    <tr>\n",
       "      <th>1333</th>\n",
       "      <td>50</td>\n",
       "      <td>male</td>\n",
       "      <td>31.0</td>\n",
       "      <td>3</td>\n",
       "      <td>0</td>\n",
       "      <td>northwest</td>\n",
       "      <td>10600.55</td>\n",
       "    </tr>\n",
       "    <tr>\n",
       "      <th>1334</th>\n",
       "      <td>18</td>\n",
       "      <td>female</td>\n",
       "      <td>31.9</td>\n",
       "      <td>0</td>\n",
       "      <td>0</td>\n",
       "      <td>northeast</td>\n",
       "      <td>2205.98</td>\n",
       "    </tr>\n",
       "    <tr>\n",
       "      <th>1335</th>\n",
       "      <td>18</td>\n",
       "      <td>female</td>\n",
       "      <td>36.9</td>\n",
       "      <td>0</td>\n",
       "      <td>0</td>\n",
       "      <td>southeast</td>\n",
       "      <td>1629.83</td>\n",
       "    </tr>\n",
       "    <tr>\n",
       "      <th>1336</th>\n",
       "      <td>21</td>\n",
       "      <td>female</td>\n",
       "      <td>25.8</td>\n",
       "      <td>0</td>\n",
       "      <td>0</td>\n",
       "      <td>southwest</td>\n",
       "      <td>2007.95</td>\n",
       "    </tr>\n",
       "    <tr>\n",
       "      <th>1337</th>\n",
       "      <td>61</td>\n",
       "      <td>female</td>\n",
       "      <td>29.1</td>\n",
       "      <td>0</td>\n",
       "      <td>1</td>\n",
       "      <td>northwest</td>\n",
       "      <td>29141.36</td>\n",
       "    </tr>\n",
       "  </tbody>\n",
       "</table>\n",
       "<p>1338 rows × 7 columns</p>\n",
       "</div>"
      ],
      "text/plain": [
       "      age     sex   bmi  children  smoker     region  expenses\n",
       "0      19  female  27.9         0       1  southwest  16884.92\n",
       "1      18    male  33.8         1       0  southeast   1725.55\n",
       "2      28    male  33.0         3       0  southeast   4449.46\n",
       "3      33    male  22.7         0       0  northwest  21984.47\n",
       "4      32    male  28.9         0       0  northwest   3866.86\n",
       "...   ...     ...   ...       ...     ...        ...       ...\n",
       "1333   50    male  31.0         3       0  northwest  10600.55\n",
       "1334   18  female  31.9         0       0  northeast   2205.98\n",
       "1335   18  female  36.9         0       0  southeast   1629.83\n",
       "1336   21  female  25.8         0       0  southwest   2007.95\n",
       "1337   61  female  29.1         0       1  northwest  29141.36\n",
       "\n",
       "[1338 rows x 7 columns]"
      ]
     },
     "execution_count": 25,
     "metadata": {},
     "output_type": "execute_result"
    }
   ],
   "source": [
    "# Reading the CSV file into a DataFrame, also placing the right file path\n",
    "df = pd.read_csv(r'C:\\Users\\alvarocairo\\Insurance.csv')\n",
    "\n",
    "# Display the first few rows from the DataFrame\n",
    "df"
   ]
  },
  {
   "cell_type": "markdown",
   "metadata": {},
   "source": [
    "#### Data exploration\n",
    "##### Checking balance in observations for the samples to ensure the validity for the statistical testsing."
   ]
  },
  {
   "cell_type": "code",
   "execution_count": 26,
   "metadata": {},
   "outputs": [
    {
     "name": "stdout",
     "output_type": "stream",
     "text": [
      "sex\n",
      "male      676\n",
      "female    662\n",
      "Name: count, dtype: int64\n"
     ]
    }
   ],
   "source": [
    "# Count the occurrences of 'male' and 'female' in the 'sex' column\n",
    "sex_counts = df['sex'].value_counts()\n",
    "\n",
    "# Display the counts\n",
    "print(sex_counts)"
   ]
  },
  {
   "cell_type": "markdown",
   "metadata": {},
   "source": [
    "##### Comparing means to check whether the average values differ significantly between the groups. \n",
    "- A significant difference in means could suggest a difference in central tendency."
   ]
  },
  {
   "cell_type": "code",
   "execution_count": 27,
   "metadata": {},
   "outputs": [
    {
     "name": "stdout",
     "output_type": "stream",
     "text": [
      "Mean expenses for males: 13956.751420118344\n",
      "Mean expenses for females: 12569.578897280968\n",
      "Mean difference between males and females: 1387.1725228373762\n"
     ]
    }
   ],
   "source": [
    "# Group the data by 'sex' and calculate the mean 'expenses' for each group\n",
    "grouped = df.groupby('sex')['expenses'].mean()\n",
    "\n",
    "# Calculate the mean difference\n",
    "mean_difference = grouped['male'] - grouped['female']\n",
    "\n",
    "# Print the results\n",
    "print(\"Mean expenses for males:\", grouped['male'])\n",
    "print(\"Mean expenses for females:\", grouped['female'])\n",
    "print(\"Mean difference between males and females:\", mean_difference)"
   ]
  },
  {
   "cell_type": "markdown",
   "metadata": {},
   "source": [
    "##### Visualization using a histogram."
   ]
  },
  {
   "cell_type": "code",
   "execution_count": 42,
   "metadata": {},
   "outputs": [
    {
     "data": {
      "image/png": "[encoded data removed]",
      "text/plain": [
       "<Figure size 800x600 with 1 Axes>"
      ]
     },
     "metadata": {},
     "output_type": "display_data"
    }
   ],
   "source": [
    "# Define colors for 'male' and 'female' bars\n",
    "colors = ['hotpink', 'dodgerblue']\n",
    "\n",
    "# Create a bar chart to display the mean expenses\n",
    "grouped.plot(kind='bar', figsize=(8, 6), color=colors)\n",
    "plt.xlabel('Gender')\n",
    "plt.ylabel('Average Expenses')\n",
    "plt.title('Average Expenses by Gender')\n",
    "plt.xticks(rotation=0)\n",
    "plt.show()"
   ]
  },
  {
   "cell_type": "markdown",
   "metadata": {},
   "source": [
    "##### Comparing medians to assess whether the typical value in one group differs from the typical value in the other group. \n",
    "- This is particularly useful when dealing with skewed or non-normally distributed data."
   ]
  },
  {
   "cell_type": "code",
   "execution_count": 40,
   "metadata": {},
   "outputs": [
    {
     "name": "stdout",
     "output_type": "stream",
     "text": [
      "Median expenses for males: 9369.615\n",
      "Median expenses for females: 9412.965\n"
     ]
    }
   ],
   "source": [
    "# Calculate the median expenses for 'male' and 'female' groups\n",
    "male_median = df[df['sex'] == 'male']['expenses'].median()\n",
    "female_median = df[df['sex'] == 'female']['expenses'].median()\n",
    "\n",
    "# Print the medians\n",
    "print(\"Median expenses for males:\", male_median)\n",
    "print(\"Median expenses for females:\", female_median)"
   ]
  },
  {
   "cell_type": "markdown",
   "metadata": {},
   "source": [
    "##### Gaining insights into the distribution of expenses by gender."
   ]
  },
  {
   "cell_type": "code",
   "execution_count": 29,
   "metadata": {},
   "outputs": [
    {
     "data": {
      "image/png": "[encoded data removed]",
      "text/plain": [
       "<Figure size 1000x600 with 1 Axes>"
      ]
     },
     "metadata": {},
     "output_type": "display_data"
    }
   ],
   "source": [
    "# Group the data by 'sex' and get the 'expenses' column\n",
    "male_expenses = df[df['sex'] == 'male']['expenses']\n",
    "female_expenses = df[df['sex'] == 'female']['expenses']\n",
    "\n",
    "# Create a histogram\n",
    "plt.figure(figsize=(10, 6))\n",
    "plt.hist(male_expenses, bins=20, alpha=0.5, label='Male')\n",
    "plt.hist(female_expenses, bins=20, alpha=0.5, label='Female')\n",
    "plt.xlabel('Expenses')\n",
    "plt.ylabel('Frequency')\n",
    "plt.title('Expenses Distribution by Gender')\n",
    "plt.legend(loc='upper right')\n",
    "plt.show()"
   ]
  },
  {
   "cell_type": "markdown",
   "metadata": {},
   "source": [
    "##### Using a heatmap to explore how insurance expenses are distributed by sex and region.\n",
    "- Also to gain a better understanding of the relationships within the dataset."
   ]
  },
  {
   "cell_type": "code",
   "execution_count": 31,
   "metadata": {},
   "outputs": [
    {
     "data": {
      "image/png": "[encoded data removed]",
      "text/plain": [
       "<Figure size 1000x600 with 2 Axes>"
      ]
     },
     "metadata": {},
     "output_type": "display_data"
    }
   ],
   "source": [
    "# Create a pivot table to reshape the data for the heatmap\n",
    "pivot_data = df.pivot_table(index='sex', columns='region', values='expenses')\n",
    "\n",
    "# Create the heatmap\n",
    "plt.figure(figsize=(10, 6))\n",
    "sns.heatmap(pivot_data, annot=True, cmap='Blues', linewidths=.5)\n",
    "plt.title('Correlation Heatmap: Sex vs. Insurance Expenses by Region')\n",
    "plt.show()"
   ]
  },
  {
   "cell_type": "markdown",
   "metadata": {},
   "source": [
    "# Sub-question 3: Does sex relate to differences in insurance expenses?\n",
    "- H0: The difference in gender does not affect insurance expenses (μ1 = μ2).\n",
    "- Ha: The difference in gender affects the insurance costs (μ1 ≠ μ2)."
   ]
  },
  {
   "cell_type": "markdown",
   "metadata": {},
   "source": [
    "### Indepent Samples T-Test"
   ]
  },
  {
   "cell_type": "code",
   "execution_count": 32,
   "metadata": {},
   "outputs": [],
   "source": [
    "# Assumptions for Independent Samples T-Test\n",
    "\n",
    "# 1. Independence Assumption:\n",
    "# The observations in the 'male' and 'female' groups are independent of each other.\n",
    "\n",
    "# 2. Random Sample Assumption:\n",
    "# The data is collected through a random sampling method to ensure that it represents the larger population from which it is drawn.\n"
   ]
  },
  {
   "cell_type": "code",
   "execution_count": 33,
   "metadata": {},
   "outputs": [
    {
     "name": "stdout",
     "output_type": "stream",
     "text": [
      "Shapiro-Wilk test for 'male' group: Statistic=0.8228137493133545, p-value=1.1787909988118692e-26\n",
      "Shapiro-Wilk test for 'female' group: Statistic=0.8053944110870361, p-value=1.8305655972609575e-27\n"
     ]
    }
   ],
   "source": [
    "# 3. Normality Assumption:\n",
    "# Check the normality of data distribution for both 'male' and 'female' groups.\n",
    "\n",
    "# Shapiro-Wilk test for normality\n",
    "shapiro_statistic_male, shapiro_p_male = stats.shapiro(male_data)\n",
    "shapiro_statistic_female, shapiro_p_female = stats.shapiro(female_data)\n",
    "\n",
    "print(f\"Shapiro-Wilk test for 'male' group: Statistic={shapiro_statistic_male}, p-value={shapiro_p_male}\")\n",
    "print(f\"Shapiro-Wilk test for 'female' group: Statistic={shapiro_statistic_female}, p-value={shapiro_p_female}\")"
   ]
  },
  {
   "cell_type": "markdown",
   "metadata": {},
   "source": [
    "- The closer the Shapiro-Wilk test statistic is to 1, the more the data resembles a normal distribution. In both cases, the test statistics are less than 1, which suggests that the data in both groups deviates from a perfect normal distribution.\n",
    "\n",
    "- The p-value is a measure of the evidence against the null hypothesis. In this case, the null hypothesis is that the data in each group follows a normal distribution. \n",
    "- For both the 'male' and 'female' group, the extremely low p-value (close to zero) indicates strong evidence against the assumption that the data follows a normal distribution."
   ]
  },
  {
   "cell_type": "code",
   "execution_count": 34,
   "metadata": {},
   "outputs": [
    {
     "name": "stdout",
     "output_type": "stream",
     "text": [
      "Levene's test: Statistic=9.90925249902728, p-value=0.0016808754266950151\n"
     ]
    }
   ],
   "source": [
    "# 4. Homogeneity of Variance : \n",
    "# The variances of the two groups being compared should be approximately equal.\n",
    "\n",
    "# Levene's test for homogeneity of variances\n",
    "levene_statistic, levene_p = stats.levene(male_data, female_data)\n",
    "\n",
    "print(f\"Levene's test: Statistic={levene_statistic}, p-value={levene_p}\")\n",
    "\n",
    "# Check the p-value to assess homogeneity of variances"
   ]
  },
  {
   "cell_type": "markdown",
   "metadata": {},
   "source": [
    "- The Levene's test statistic (9.91) represents the result of the test. A larger test statistic indicates a greater difference in variances among the groups.\n",
    "- The p-value is very low (0.00168), indicating that there is strong evidence that the variances between groups in these data are not equal, meaning that the assumption of homogeneity of variances has been violated."
   ]
  },
  {
   "cell_type": "code",
   "execution_count": 35,
   "metadata": {},
   "outputs": [
    {
     "name": "stdout",
     "output_type": "stream",
     "text": [
      "T-Statistic: 2.0975468761820912\n",
      "P-Value: 0.03613269566075222\n"
     ]
    }
   ],
   "source": [
    "# Perform the Independent Samples t-test\n",
    "t_stat, p_value = stats.ttest_ind(male_data, female_data)\n",
    "\n",
    "# Output the results\n",
    "print(\"T-Statistic:\", t_stat)\n",
    "print(\"P-Value:\", p_value)"
   ]
  },
  {
   "cell_type": "code",
   "execution_count": 36,
   "metadata": {},
   "outputs": [
    {
     "name": "stdout",
     "output_type": "stream",
     "text": [
      "The difference between 'male' and 'female' groups is statistically significant.\n"
     ]
    }
   ],
   "source": [
    "# Determine whether the difference is statistically significant\n",
    "alpha = 0.05  # The significance level\n",
    "if p_value < alpha:\n",
    "    print(\"The difference between 'male' and 'female' groups is statistically significant.\")\n",
    "else:\n",
    "    print(\"There is no statistically significant difference between 'male' and 'female' groups.\")"
   ]
  },
  {
   "cell_type": "markdown",
   "metadata": {},
   "source": [
    "- This t-statistic (2.0975) implies that there is some evidence that the sample mean is higher than the population mean.\n",
    "- Since the p-value is less than 0.05, it is typically considered statistically significant.\n",
    "\n",
    "- There is a statistically significant difference in insurance expenditures between male and female. The results suggests that gender is associated with a difference in insurance costs, supporting the alternative hypothesis (Ha)."
   ]
  },
  {
   "cell_type": "markdown",
   "metadata": {},
   "source": [
    "### Welch's T-Test\n",
    "- Since the variances of 'male' and 'female' is not equal, an alternative to compare means is the Welch's T-Test. \n",
    "- Also known als the 'unequal variances t-test' and is appropriate when the variances of the two groups are not equal.\n"
   ]
  },
  {
   "cell_type": "code",
   "execution_count": 37,
   "metadata": {},
   "outputs": [
    {
     "name": "stdout",
     "output_type": "stream",
     "text": [
      "Welch's t-statistic: 2.100888109762454\n",
      "P-value: 0.035840989751783965\n",
      "Reject the null hypothesis\n"
     ]
    }
   ],
   "source": [
    "# Perform Welch's t-test\n",
    "t_statistic, p_value = stats.ttest_ind(male_data, female_data, equal_var=False)\n",
    "\n",
    "# Print the results\n",
    "print(\"Welch's t-statistic:\", t_statistic)\n",
    "print(\"P-value:\", p_value)\n",
    "\n",
    "# Make a significance decision based on the p-value\n",
    "alpha = 0.05  # The significance level\n",
    "if p_value < alpha:\n",
    "    print(\"Reject the null hypothesis\")\n",
    "else:\n",
    "    print(\"Fail to reject the null hypothesis\")"
   ]
  },
  {
   "cell_type": "markdown",
   "metadata": {},
   "source": [
    "#### Based on the p-value we can conclude that there is a statistically significant difference in insurance expenses between males and females based on the data and the chosen significance level. This supports the alternative hypothesis (Ha) and suggests that gender has a significant effect on insurance costs."
   ]
  }
 ],
 "metadata": {
  "kernelspec": {
   "display_name": "base",
   "language": "python",
   "name": "python3"
  },
  "language_info": {
   "codemirror_mode": {
    "name": "ipython",
    "version": 3
   },
   "file_extension": ".py",
   "mimetype": "text/x-python",
   "name": "python",
   "nbconvert_exporter": "python",
   "pygments_lexer": "ipython3",
   "version": "3.11.5"
  }
 },
 "nbformat": 4,
 "nbformat_minor": 2
}
