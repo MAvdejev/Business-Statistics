{
 "cells": [
  {
   "cell_type": "code",
   "execution_count": 1,
   "metadata": {},
   "outputs": [],
   "source": [
    "import pandas as pd\n",
    "import numpy as np\n",
    "import matplotlib.pyplot as plt\n",
    "import scipy.stats as stats\n",
    "import seaborn as sns"
   ]
  },
  {
   "cell_type": "code",
   "execution_count": 2,
   "metadata": {},
   "outputs": [
    {
     "data": {
      "text/html": [
       "<div>\n",
       "<style scoped>\n",
       "    .dataframe tbody tr th:only-of-type {\n",
       "        vertical-align: middle;\n",
       "    }\n",
       "\n",
       "    .dataframe tbody tr th {\n",
       "        vertical-align: top;\n",
       "    }\n",
       "\n",
       "    .dataframe thead th {\n",
       "        text-align: right;\n",
       "    }\n",
       "</style>\n",
       "<table border=\"1\" class=\"dataframe\">\n",
       "  <thead>\n",
       "    <tr style=\"text-align: right;\">\n",
       "      <th></th>\n",
       "      <th>age</th>\n",
       "      <th>sex</th>\n",
       "      <th>bmi</th>\n",
       "      <th>children</th>\n",
       "      <th>smoker</th>\n",
       "      <th>region</th>\n",
       "      <th>expenses</th>\n",
       "    </tr>\n",
       "  </thead>\n",
       "  <tbody>\n",
       "    <tr>\n",
       "      <th>0</th>\n",
       "      <td>19</td>\n",
       "      <td>female</td>\n",
       "      <td>27.9</td>\n",
       "      <td>0</td>\n",
       "      <td>yes</td>\n",
       "      <td>southwest</td>\n",
       "      <td>16884.92</td>\n",
       "    </tr>\n",
       "    <tr>\n",
       "      <th>1</th>\n",
       "      <td>18</td>\n",
       "      <td>male</td>\n",
       "      <td>33.8</td>\n",
       "      <td>1</td>\n",
       "      <td>no</td>\n",
       "      <td>southeast</td>\n",
       "      <td>1725.55</td>\n",
       "    </tr>\n",
       "    <tr>\n",
       "      <th>2</th>\n",
       "      <td>28</td>\n",
       "      <td>male</td>\n",
       "      <td>33.0</td>\n",
       "      <td>3</td>\n",
       "      <td>no</td>\n",
       "      <td>southeast</td>\n",
       "      <td>4449.46</td>\n",
       "    </tr>\n",
       "    <tr>\n",
       "      <th>3</th>\n",
       "      <td>33</td>\n",
       "      <td>male</td>\n",
       "      <td>22.7</td>\n",
       "      <td>0</td>\n",
       "      <td>no</td>\n",
       "      <td>northwest</td>\n",
       "      <td>21984.47</td>\n",
       "    </tr>\n",
       "    <tr>\n",
       "      <th>4</th>\n",
       "      <td>32</td>\n",
       "      <td>male</td>\n",
       "      <td>28.9</td>\n",
       "      <td>0</td>\n",
       "      <td>no</td>\n",
       "      <td>northwest</td>\n",
       "      <td>3866.86</td>\n",
       "    </tr>\n",
       "  </tbody>\n",
       "</table>\n",
       "</div>"
      ],
      "text/plain": [
       "   age     sex   bmi  children smoker     region  expenses\n",
       "0   19  female  27.9         0    yes  southwest  16884.92\n",
       "1   18    male  33.8         1     no  southeast   1725.55\n",
       "2   28    male  33.0         3     no  southeast   4449.46\n",
       "3   33    male  22.7         0     no  northwest  21984.47\n",
       "4   32    male  28.9         0     no  northwest   3866.86"
      ]
     },
     "execution_count": 2,
     "metadata": {},
     "output_type": "execute_result"
    }
   ],
   "source": [
    "df = pd.read_csv(r'C:\\Users\\alvarocairo\\Insurance.csv')\n",
    "df.head()"
   ]
  },
  {
   "cell_type": "code",
   "execution_count": 3,
   "metadata": {},
   "outputs": [
    {
     "name": "stdout",
     "output_type": "stream",
     "text": [
      "children\n",
      "0    574\n",
      "1    324\n",
      "2    240\n",
      "3    157\n",
      "4     25\n",
      "5     18\n",
      "Name: count, dtype: int64\n"
     ]
    }
   ],
   "source": [
    "# Use the 'value_counts' function to count occurrences of each number of children\n",
    "child_counts = df['children'].value_counts()\n",
    "\n",
    "# Print the results\n",
    "print(child_counts)"
   ]
  },
  {
   "cell_type": "code",
   "execution_count": 4,
   "metadata": {},
   "outputs": [
    {
     "name": "stdout",
     "output_type": "stream",
     "text": [
      "children\n",
      "0    12365.975767\n",
      "1    12731.171821\n",
      "2    15073.564000\n",
      "3    15355.318535\n",
      "4    13850.656800\n",
      "5     8786.035556\n",
      "Name: expenses, dtype: float64\n"
     ]
    }
   ],
   "source": [
    "# Group the data by the 'children' column and calculate the mean expenses for each group\n",
    "mean_expenses_per_child = df.groupby('children')['expenses'].mean()\n",
    "\n",
    "# Print the results\n",
    "print(mean_expenses_per_child)"
   ]
  },
  {
   "cell_type": "code",
   "execution_count": 5,
   "metadata": {},
   "outputs": [
    {
     "data": {
      "image/png": "[encoded data removed]",
      "text/plain": [
       "<Figure size 640x480 with 1 Axes>"
      ]
     },
     "metadata": {},
     "output_type": "display_data"
    }
   ],
   "source": [
    "# Group the data by the 'children' column and calculate the mean expenses for each group\n",
    "mean_expenses_per_child = df.groupby('children')['expenses'].mean()\n",
    "\n",
    "# Define color\n",
    "color = ['darkkhaki']\n",
    "\n",
    "# Create a histogram\n",
    "plt.bar(mean_expenses_per_child.index, mean_expenses_per_child.values, color=color)\n",
    "plt.xlabel('Number of Children')\n",
    "plt.ylabel('Mean Expenses')\n",
    "plt.title('Mean Expenses by Number of Children')\n",
    "plt.xticks(mean_expenses_per_child.index)\n",
    "plt.show()"
   ]
  },
  {
   "cell_type": "code",
   "execution_count": 6,
   "metadata": {},
   "outputs": [
    {
     "data": {
      "image/png": "[encoded data removed]",
      "text/plain": [
       "<Figure size 640x480 with 1 Axes>"
      ]
     },
     "metadata": {},
     "output_type": "display_data"
    }
   ],
   "source": [
    "# Create a new group for 1 to 5 children and calculate the mean expenses\n",
    "mean_expenses_1_to_5_children = mean_expenses_per_child.loc[1:5].mean()\n",
    "\n",
    "# Create a histogram comparing 0 children to the mean of 1 to 5 children\n",
    "plt.bar(['0 Children', '1-5 Children'], [mean_expenses_per_child[0], mean_expenses_1_to_5_children])\n",
    "plt.ylabel('Mean Expenses')\n",
    "plt.title('Mean Expenses Comparison: 0 Children vs. 1-5 Children')\n",
    "plt.show()"
   ]
  },
  {
   "cell_type": "code",
   "execution_count": 7,
   "metadata": {},
   "outputs": [
    {
     "name": "stdout",
     "output_type": "stream",
     "text": [
      "Independent Samples t-test Results:\n",
      "t-statistic: -2.3721\n",
      "P-value: 0.0178\n",
      "The difference in mean expenses is statistically significant.\n"
     ]
    }
   ],
   "source": [
    "# Separate data into two groups: 0 children and 1 to 5 children\n",
    "expenses_0_children = df[df['children'] == 0]['expenses']\n",
    "expenses_1_to_5_children = df[(df['children'] >= 1) & (df['children'] <= 5)]['expenses']\n",
    "\n",
    "# Perform an independent samples t-test\n",
    "t_stat, p_value = stats.ttest_ind(expenses_0_children, expenses_1_to_5_children)\n",
    "\n",
    "# Print the results\n",
    "print(\"Independent Samples t-test Results:\")\n",
    "print(f\"t-statistic: {t_stat:.4f}\")\n",
    "print(f\"P-value: {p_value:.4f}\")\n",
    "\n",
    "# Check for statistical significance at a significance level (alpha)\n",
    "alpha = 0.05\n",
    "if p_value < alpha:\n",
    "    print(\"The difference in mean expenses is statistically significant.\")\n",
    "else:\n",
    "    print(\"There is no statistically significant difference in mean expenses.\")\n"
   ]
  },
  {
   "cell_type": "code",
   "execution_count": 8,
   "metadata": {},
   "outputs": [
    {
     "name": "stdout",
     "output_type": "stream",
     "text": [
      "Analysis of Variance (ANOVA) Results:\n",
      "F-statistic: 3.2969\n",
      "P-value: 0.0058\n",
      "There is a statistically significant difference in mean expenses among the groups.\n"
     ]
    }
   ],
   "source": [
    "# Group the data by the 'children' column and collect expenses for each group\n",
    "groups = [df[df['children'] == i]['expenses'] for i in range(6)]\n",
    "\n",
    "# Perform ANOVA\n",
    "f_statistic, p_value = stats.f_oneway(*groups)\n",
    "\n",
    "# Print the results\n",
    "print(\"Analysis of Variance (ANOVA) Results:\")\n",
    "print(f\"F-statistic: {f_statistic:.4f}\")\n",
    "print(f\"P-value: {p_value:.4f}\")\n",
    "\n",
    "# Check for statistical significance at a significance level (alpha)\n",
    "alpha = 0.05\n",
    "if p_value < alpha:\n",
    "    print(\"There is a statistically significant difference in mean expenses among the groups.\")\n",
    "else:\n",
    "    print(\"There is no statistically significant difference in mean expenses among the groups.\")"
   ]
  }
 ],
 "metadata": {
  "kernelspec": {
   "display_name": "base",
   "language": "python",
   "name": "python3"
  },
  "language_info": {
   "codemirror_mode": {
    "name": "ipython",
    "version": 3
   },
   "file_extension": ".py",
   "mimetype": "text/x-python",
   "name": "python",
   "nbconvert_exporter": "python",
   "pygments_lexer": "ipython3",
   "version": "3.11.5"
  }
 },
 "nbformat": 4,
 "nbformat_minor": 2
}
