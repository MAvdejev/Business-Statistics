{
 "cells": [
  {
   "cell_type": "code",
   "execution_count": 2,
   "metadata": {},
   "outputs": [],
   "source": [
    "import numpy as np\n",
    "import pandas as pd\n",
    "import scipy.stats as stats\n",
    "import os"
   ]
  },
  {
   "cell_type": "code",
   "execution_count": 3,
   "metadata": {},
   "outputs": [
    {
     "data": {
      "text/plain": [
       "<function nt.getcwd()>"
      ]
     },
     "execution_count": 3,
     "metadata": {},
     "output_type": "execute_result"
    }
   ],
   "source": [
    "os.chdir (\"C:\\\\Users\\\\saharlamuhumedhussei\")\n",
    "os.getcwd"
   ]
  },
  {
   "cell_type": "code",
   "execution_count": 4,
   "metadata": {},
   "outputs": [],
   "source": [
    "insurance = pd.read_csv(r\"C:\\Users\\saharlamuhumedhussei\\OneDrive - HvA\\Desktop\\Python\\Insurance.csv\")\n"
   ]
  },
  {
   "cell_type": "code",
   "execution_count": 5,
   "metadata": {},
   "outputs": [
    {
     "name": "stdout",
     "output_type": "stream",
     "text": [
      "      age     sex   bmi  children smoker     region  expenses\n",
      "0      19  female  27.9         0    yes  southwest  16884.92\n",
      "1      18    male  33.8         1     no  southeast   1725.55\n",
      "2      28    male  33.0         3     no  southeast   4449.46\n",
      "3      33    male  22.7         0     no  northwest  21984.47\n",
      "4      32    male  28.9         0     no  northwest   3866.86\n",
      "...   ...     ...   ...       ...    ...        ...       ...\n",
      "1333   50    male  31.0         3     no  northwest  10600.55\n",
      "1334   18  female  31.9         0     no  northeast   2205.98\n",
      "1335   18  female  36.9         0     no  southeast   1629.83\n",
      "1336   21  female  25.8         0     no  southwest   2007.95\n",
      "1337   61  female  29.1         0    yes  northwest  29141.36\n",
      "\n",
      "[1338 rows x 7 columns]\n"
     ]
    }
   ],
   "source": [
    "import pandas as pd\n",
    "\n",
    "# Path to the csv file\n",
    "file_path = r\"C:\\Users\\saharlamuhumedhussei\\OneDrive - HvA\\Desktop\\Python\\Insurance.csv\"\n",
    "\n",
    "# Read the CSV file into a DataFrame\n",
    "insurance = pd.read_csv(file_path)\n",
    "\n",
    "# Display the data\n",
    "print(insurance)"
   ]
  },
  {
   "cell_type": "code",
   "execution_count": 11,
   "metadata": {},
   "outputs": [
    {
     "name": "stdout",
     "output_type": "stream",
     "text": [
      "Mean Expenses for southwest: 12346.94\n",
      "Mean Expenses for southeast: 14735.41\n",
      "Mean Expenses for northwest: 12417.58\n",
      "Mean Expenses for northeast: 13406.38\n"
     ]
    }
   ],
   "source": [
    "# 'region' and 'expenses' columns in the data set\n",
    "regions = insurance['region'].unique()\n",
    "mean_expenses_by_region = {}\n",
    "\n",
    "for region in regions:\n",
    "    mean_expenses = insurance[insurance['region'] == region]['expenses'].mean()\n",
    "    mean_expenses_by_region[region] = mean_expenses\n",
    "\n",
    "# Print the mean expenses for each region\n",
    "for region, mean_expenses in mean_expenses_by_region.items():\n",
    "    print(f\"Mean Expenses for {region}: {mean_expenses:.2f}\")\n"
   ]
  },
  {
   "cell_type": "code",
   "execution_count": 18,
   "metadata": {},
   "outputs": [
    {
     "data": {
      "image/png": "[encoded data removed]",
      "text/plain": [
       "<Figure size 1000x600 with 1 Axes>"
      ]
     },
     "metadata": {},
     "output_type": "display_data"
    }
   ],
   "source": [
    "import pandas as pd\n",
    "import matplotlib.pyplot as plt\n",
    "\n",
    "# The dataset has 'region' and 'expenses' columns\n",
    "plt.figure(figsize=(10, 6))\n",
    "plt.title('Mean Insurance Expenses by Region')\n",
    "plt.xlabel('Region')\n",
    "plt.ylabel('Mean Expenses')\n",
    "\n",
    "# Create a bar chart for the mean expenses in each region\n",
    "mean_expenses_by_region.plot(kind='bar', color='skyblue')\n",
    "\n",
    "plt.xticks(rotation=0)  # Rotate x-axis labels for better readability\n",
    "\n",
    "plt.show()\n"
   ]
  },
  {
   "cell_type": "code",
   "execution_count": 23,
   "metadata": {},
   "outputs": [
    {
     "name": "stdout",
     "output_type": "stream",
     "text": [
      "F-statistic: 2.55\n",
      "p-value: 0.0130\n",
      "Reject the null hypothesis (Ha): Living in a region in the United States does have an effect on insurance expenses.\n"
     ]
    }
   ],
   "source": [
    "import pandas as pd\n",
    "from scipy import stats\n",
    "\n",
    "for region in regions:\n",
    "    region_data.append(insurance[insurance['region'] == region]['expenses'])\n",
    "\n",
    "# Perform an ANOVA test\n",
    "f_statistic, p_value = stats.f_oneway(*region_data)\n",
    "\n",
    "alpha = 0.05  # Set your significance level\n",
    "\n",
    "# Print the results\n",
    "print(f'F-statistic: {f_statistic:.2f}')\n",
    "print(f'p-value: {p_value:.4f}')\n",
    "\n",
    "if p_value < alpha:\n",
    "    print(\"Reject the null hypothesis (Ha): Living in a region in the United States does have an effect on insurance expenses.\")\n",
    "else:\n",
    "    print(\"Fail to reject the null hypothesis (H0): Living in a region in the United States does not have an effect on insurance expenses.\")\n"
   ]
  }
 ],
 "metadata": {
  "kernelspec": {
   "display_name": "base",
   "language": "python",
   "name": "python3"
  },
  "language_info": {
   "codemirror_mode": {
    "name": "ipython",
    "version": 3
   },
   "file_extension": ".py",
   "mimetype": "text/x-python",
   "name": "python",
   "nbconvert_exporter": "python",
   "pygments_lexer": "ipython3",
   "version": "3.11.5"
  }
 },
 "nbformat": 4,
 "nbformat_minor": 2
}
