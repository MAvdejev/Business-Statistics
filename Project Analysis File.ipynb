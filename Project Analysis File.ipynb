{
 "cells": [
  {
   "cell_type": "code",
   "execution_count": 2,
   "metadata": {},
   "outputs": [],
   "source": [
    "import pandas as pd \n",
    "import numpy as np\n",
    "import os\n",
    "import matplotlib.pyplot as plt\n",
    "import scipy.stats\n",
    "#in order to calculate pearson and spearman, import pearsonr and import spearmanr from scripy.stats\n",
    "#generate 100 x-y value pairs from a standard normal distribution. Plot the x-y pairs and compute the covariance matrix"
   ]
  },
  {
   "cell_type": "code",
   "execution_count": 3,
   "metadata": {},
   "outputs": [],
   "source": [
    "np.random.seed(0)\n",
    "#seed for reproducibility"
   ]
  },
  {
   "cell_type": "code",
   "execution_count": 4,
   "metadata": {},
   "outputs": [],
   "source": [
    "#generating 100 x-y value pairs\n",
    "x = np.random.randn(100)\n",
    "y = np.random.randn(100)"
   ]
  },
  {
   "cell_type": "code",
   "execution_count": 5,
   "metadata": {},
   "outputs": [
    {
     "data": {
      "image/png": "[encoded data removed]",
      "text/plain": [
       "<Figure size 640x480 with 1 Axes>"
      ]
     },
     "metadata": {},
     "output_type": "display_data"
    }
   ],
   "source": [
    "#plotting the x-y pairs\n",
    "plt.scatter(x, y, alpha=0.5)\n",
    "plt.title('Scatter plot of random data')\n",
    "plt.xlabel('X')\n",
    "plt.ylabel('Y')\n",
    "plt.grid(True)\n",
    "plt.show()\n"
   ]
  },
  {
   "cell_type": "code",
   "execution_count": 6,
   "metadata": {},
   "outputs": [],
   "source": [
    "covariance_matrix = np.cov(x,y)"
   ]
  },
  {
   "cell_type": "code",
   "execution_count": 7,
   "metadata": {},
   "outputs": [
    {
     "name": "stdout",
     "output_type": "stream",
     "text": [
      "Covariance Matrix:  [[1.02608749 0.11769063]\n",
      " [0.11769063 1.08134929]]\n"
     ]
    }
   ],
   "source": [
    "print(\"Covariance Matrix: \",covariance_matrix)\n"
   ]
  },
  {
   "cell_type": "markdown",
   "metadata": {},
   "source": [
    "This is where the Insurance file analysis begins"
   ]
  },
  {
   "cell_type": "code",
   "execution_count": 8,
   "metadata": {},
   "outputs": [],
   "source": [
    "from scipy.stats import pearsonr\n",
    "#importing pearson correlation function"
   ]
  },
  {
   "cell_type": "code",
   "execution_count": 9,
   "metadata": {},
   "outputs": [],
   "source": [
    "df = pd.read_csv(r'C:\\Users\\Kristian\\Downloads\\Insurance.csv')\n",
    "#importing the data file"
   ]
  },
  {
   "cell_type": "code",
   "execution_count": 10,
   "metadata": {},
   "outputs": [
    {
     "data": {
      "text/html": [
       "<div>\n",
       "<style scoped>\n",
       "    .dataframe tbody tr th:only-of-type {\n",
       "        vertical-align: middle;\n",
       "    }\n",
       "\n",
       "    .dataframe tbody tr th {\n",
       "        vertical-align: top;\n",
       "    }\n",
       "\n",
       "    .dataframe thead th {\n",
       "        text-align: right;\n",
       "    }\n",
       "</style>\n",
       "<table border=\"1\" class=\"dataframe\">\n",
       "  <thead>\n",
       "    <tr style=\"text-align: right;\">\n",
       "      <th></th>\n",
       "      <th>age</th>\n",
       "      <th>sex</th>\n",
       "      <th>bmi</th>\n",
       "      <th>children</th>\n",
       "      <th>smoker</th>\n",
       "      <th>region</th>\n",
       "      <th>expenses</th>\n",
       "    </tr>\n",
       "  </thead>\n",
       "  <tbody>\n",
       "    <tr>\n",
       "      <th>0</th>\n",
       "      <td>19</td>\n",
       "      <td>female</td>\n",
       "      <td>27.9</td>\n",
       "      <td>0</td>\n",
       "      <td>yes</td>\n",
       "      <td>southwest</td>\n",
       "      <td>16884.92</td>\n",
       "    </tr>\n",
       "    <tr>\n",
       "      <th>1</th>\n",
       "      <td>18</td>\n",
       "      <td>male</td>\n",
       "      <td>33.8</td>\n",
       "      <td>1</td>\n",
       "      <td>no</td>\n",
       "      <td>southeast</td>\n",
       "      <td>1725.55</td>\n",
       "    </tr>\n",
       "    <tr>\n",
       "      <th>2</th>\n",
       "      <td>28</td>\n",
       "      <td>male</td>\n",
       "      <td>33.0</td>\n",
       "      <td>3</td>\n",
       "      <td>no</td>\n",
       "      <td>southeast</td>\n",
       "      <td>4449.46</td>\n",
       "    </tr>\n",
       "    <tr>\n",
       "      <th>3</th>\n",
       "      <td>33</td>\n",
       "      <td>male</td>\n",
       "      <td>22.7</td>\n",
       "      <td>0</td>\n",
       "      <td>no</td>\n",
       "      <td>northwest</td>\n",
       "      <td>21984.47</td>\n",
       "    </tr>\n",
       "    <tr>\n",
       "      <th>4</th>\n",
       "      <td>32</td>\n",
       "      <td>male</td>\n",
       "      <td>28.9</td>\n",
       "      <td>0</td>\n",
       "      <td>no</td>\n",
       "      <td>northwest</td>\n",
       "      <td>3866.86</td>\n",
       "    </tr>\n",
       "  </tbody>\n",
       "</table>\n",
       "</div>"
      ],
      "text/plain": [
       "   age     sex   bmi  children smoker     region  expenses\n",
       "0   19  female  27.9         0    yes  southwest  16884.92\n",
       "1   18    male  33.8         1     no  southeast   1725.55\n",
       "2   28    male  33.0         3     no  southeast   4449.46\n",
       "3   33    male  22.7         0     no  northwest  21984.47\n",
       "4   32    male  28.9         0     no  northwest   3866.86"
      ]
     },
     "execution_count": 10,
     "metadata": {},
     "output_type": "execute_result"
    }
   ],
   "source": [
    "df.head()\n",
    "#showing the head of the dataframe, just to see if it works"
   ]
  },
  {
   "cell_type": "code",
   "execution_count": 11,
   "metadata": {},
   "outputs": [],
   "source": [
    "correlation_coefficient = df['bmi'].corr(df['expenses'])\n",
    "#calculating correlation between bmi and expense"
   ]
  },
  {
   "cell_type": "code",
   "execution_count": 12,
   "metadata": {},
   "outputs": [
    {
     "name": "stdout",
     "output_type": "stream",
     "text": [
      "Pearson's correlation coefficient:  0.198576255018932\n"
     ]
    }
   ],
   "source": [
    "print(\"Pearson's correlation coefficient: \",correlation_coefficient)\n",
    "#correlation between bmi and expenses. Not too high, we can say this is a low correlation."
   ]
  },
  {
   "cell_type": "code",
   "execution_count": 13,
   "metadata": {},
   "outputs": [],
   "source": [
    "average_expenses = df['expenses'].mean\n",
    "#calculating the average_expenses"
   ]
  },
  {
   "cell_type": "code",
   "execution_count": 14,
   "metadata": {},
   "outputs": [
    {
     "name": "stdout",
     "output_type": "stream",
     "text": [
      "<bound method NDFrame._add_numeric_operations.<locals>.mean of 0       16884.92\n",
      "1        1725.55\n",
      "2        4449.46\n",
      "3       21984.47\n",
      "4        3866.86\n",
      "          ...   \n",
      "1333    10600.55\n",
      "1334     2205.98\n",
      "1335     1629.83\n",
      "1336     2007.95\n",
      "1337    29141.36\n",
      "Name: expenses, Length: 1338, dtype: float64>\n"
     ]
    }
   ],
   "source": [
    "print (average_expenses)"
   ]
  },
  {
   "cell_type": "code",
   "execution_count": 25,
   "metadata": {},
   "outputs": [],
   "source": [
    "male_data = df[df['sex'] =='male']\n",
    "#separating data based on sex = male"
   ]
  },
  {
   "cell_type": "code",
   "execution_count": 26,
   "metadata": {},
   "outputs": [
    {
     "name": "stdout",
     "output_type": "stream",
     "text": [
      "      age   sex   bmi  children smoker     region  expenses\n",
      "1      18  male  33.8         1     no  southeast   1725.55\n",
      "2      28  male  33.0         3     no  southeast   4449.46\n",
      "3      33  male  22.7         0     no  northwest  21984.47\n",
      "4      32  male  28.9         0     no  northwest   3866.86\n",
      "8      37  male  29.8         2     no  northeast   6406.41\n",
      "...   ...   ...   ...       ...    ...        ...       ...\n",
      "1324   31  male  25.9         1     no  northwest   4239.89\n",
      "1325   61  male  33.5         0     no  northeast  13143.34\n",
      "1327   51  male  30.0         1     no  southeast   9377.90\n",
      "1329   52  male  38.6         2     no  southwest  10325.21\n",
      "1333   50  male  31.0         3     no  northwest  10600.55\n",
      "\n",
      "[676 rows x 7 columns]\n"
     ]
    }
   ],
   "source": [
    "print(male_data)"
   ]
  },
  {
   "cell_type": "code",
   "execution_count": 27,
   "metadata": {},
   "outputs": [],
   "source": [
    "male_expenses_mean = male_data['expenses'].mean()\n",
    "#calculating the mean expenses for the male population in the sample"
   ]
  },
  {
   "cell_type": "code",
   "execution_count": 18,
   "metadata": {},
   "outputs": [
    {
     "name": "stdout",
     "output_type": "stream",
     "text": [
      "The mean expense for a typical male inside this sample is equal to 13956.751420118342 .\n"
     ]
    }
   ],
   "source": [
    "male_expenses_mean\n",
    "print(\"The mean expense for a typical male inside this sample is equal to\",male_expenses_mean,\".\")\n",
    "#this way we get the mean of male expenses."
   ]
  },
  {
   "cell_type": "code",
   "execution_count": 28,
   "metadata": {},
   "outputs": [
    {
     "name": "stdout",
     "output_type": "stream",
     "text": [
      "30.94526627218935\n"
     ]
    }
   ],
   "source": [
    "average_male_bmi = male_data['bmi'].mean()\n",
    "print(average_male_bmi)"
   ]
  },
  {
   "cell_type": "code",
   "execution_count": 19,
   "metadata": {},
   "outputs": [
    {
     "data": {
      "text/plain": [
       "0"
      ]
     },
     "execution_count": 19,
     "metadata": {},
     "output_type": "execute_result"
    }
   ],
   "source": [
    "len([item for item in df if \"smoker\"==\"yes\"])"
   ]
  },
  {
   "cell_type": "code",
   "execution_count": 20,
   "metadata": {},
   "outputs": [
    {
     "name": "stdout",
     "output_type": "stream",
     "text": [
      "      age     sex   bmi  children smoker     region  expenses\n",
      "0      19  female  27.9         0    yes  southwest  16884.92\n",
      "5      31  female  25.7         0     no  southeast   3756.62\n",
      "6      46  female  33.4         1     no  southeast   8240.59\n",
      "7      37  female  27.7         3     no  northwest   7281.51\n",
      "9      60  female  25.8         0     no  northwest  28923.14\n",
      "...   ...     ...   ...       ...    ...        ...       ...\n",
      "1332   52  female  44.7         3     no  southwest  11411.69\n",
      "1334   18  female  31.9         0     no  northeast   2205.98\n",
      "1335   18  female  36.9         0     no  southeast   1629.83\n",
      "1336   21  female  25.8         0     no  southwest   2007.95\n",
      "1337   61  female  29.1         0    yes  northwest  29141.36\n",
      "\n",
      "[662 rows x 7 columns]\n"
     ]
    }
   ],
   "source": [
    "female_expenses = df[df['sex']=='female']\n",
    "print(female_expenses)"
   ]
  },
  {
   "cell_type": "code",
   "execution_count": 21,
   "metadata": {},
   "outputs": [],
   "source": [
    "female_expenses_mean = female_expenses['expenses'].mean()"
   ]
  },
  {
   "cell_type": "code",
   "execution_count": 24,
   "metadata": {},
   "outputs": [
    {
     "name": "stdout",
     "output_type": "stream",
     "text": [
      "The mean expenses for an average female in this sample are equal to 12569.578897280968\n"
     ]
    }
   ],
   "source": [
    "print(\"The mean expenses for an average female in this sample are equal to\",female_expenses_mean)"
   ]
  },
  {
   "cell_type": "code",
   "execution_count": 29,
   "metadata": {},
   "outputs": [
    {
     "name": "stdout",
     "output_type": "stream",
     "text": [
      "      age     sex   bmi  children smoker     region  expenses\n",
      "0      19  female  27.9         0    yes  southwest  16884.92\n",
      "11     62  female  26.3         0    yes  southeast  27808.73\n",
      "14     27    male  42.1         0    yes  southeast  39611.76\n",
      "19     30    male  35.3         0    yes  southwest  36837.47\n",
      "23     34  female  31.9         1    yes  northeast  37701.88\n",
      "...   ...     ...   ...       ...    ...        ...       ...\n",
      "1313   19  female  34.7         2    yes  southwest  36397.58\n",
      "1314   30  female  23.7         3    yes  northwest  18765.88\n",
      "1321   62    male  26.7         0    yes  northeast  28101.33\n",
      "1323   42  female  40.4         2    yes  southeast  43896.38\n",
      "1337   61  female  29.1         0    yes  northwest  29141.36\n",
      "\n",
      "[274 rows x 7 columns]\n"
     ]
    }
   ],
   "source": [
    "smokers_mean = df[df['smoker']=='yes']\n",
    "print(smokers_mean)\n",
    "                    "
   ]
  },
  {
   "cell_type": "code",
   "execution_count": 34,
   "metadata": {},
   "outputs": [
    {
     "name": "stdout",
     "output_type": "stream",
     "text": [
      "32050.23197080292\n",
      "The mean of expenses for smokers in the sample is equal to 32050.23197080292\n"
     ]
    }
   ],
   "source": [
    "smokers_expenses_mean = smokers_mean['expenses'].mean()\n",
    "print(smokers_expenses_mean)\n",
    "print(\"The mean of expenses for smokers in the sample is equal to\",smokers_expenses_mean)"
   ]
  },
  {
   "cell_type": "code",
   "execution_count": 35,
   "metadata": {},
   "outputs": [
    {
     "name": "stdout",
     "output_type": "stream",
     "text": [
      "      age     sex   bmi  children smoker     region  expenses\n",
      "1      18    male  33.8         1     no  southeast   1725.55\n",
      "2      28    male  33.0         3     no  southeast   4449.46\n",
      "3      33    male  22.7         0     no  northwest  21984.47\n",
      "4      32    male  28.9         0     no  northwest   3866.86\n",
      "5      31  female  25.7         0     no  southeast   3756.62\n",
      "...   ...     ...   ...       ...    ...        ...       ...\n",
      "1332   52  female  44.7         3     no  southwest  11411.69\n",
      "1333   50    male  31.0         3     no  northwest  10600.55\n",
      "1334   18  female  31.9         0     no  northeast   2205.98\n",
      "1335   18  female  36.9         0     no  southeast   1629.83\n",
      "1336   21  female  25.8         0     no  southwest   2007.95\n",
      "\n",
      "[1064 rows x 7 columns]\n"
     ]
    }
   ],
   "source": [
    "nonsmokers_mean = df[df['smoker']=='no']\n",
    "print(nonsmokers_mean)"
   ]
  },
  {
   "cell_type": "code",
   "execution_count": 36,
   "metadata": {},
   "outputs": [
    {
     "name": "stdout",
     "output_type": "stream",
     "text": [
      "8434.268449248118\n",
      "The mean of expenses for non-smokers in the sample is equal to 8434.268449248118\n"
     ]
    }
   ],
   "source": [
    "nonsmokers_expenses_mean = nonsmokers_mean['expenses'].mean()\n",
    "print(nonsmokers_expenses_mean)\n",
    "print(\"The mean of expenses for non-smokers in the sample is equal to\",nonsmokers_expenses_mean)"
   ]
  },
  {
   "cell_type": "code",
   "execution_count": null,
   "metadata": {},
   "outputs": [],
   "source": []
  }
 ],
 "metadata": {
  "kernelspec": {
   "display_name": "base",
   "language": "python",
   "name": "python3"
  },
  "language_info": {
   "codemirror_mode": {
    "name": "ipython",
    "version": 3
   },
   "file_extension": ".py",
   "mimetype": "text/x-python",
   "name": "python",
   "nbconvert_exporter": "python",
   "pygments_lexer": "ipython3",
   "version": "3.11.3"
  },
  "orig_nbformat": 4
 },
 "nbformat": 4,
 "nbformat_minor": 2
}
