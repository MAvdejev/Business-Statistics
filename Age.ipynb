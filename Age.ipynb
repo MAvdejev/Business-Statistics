{
 "cells": [
  {
   "cell_type": "code",
   "execution_count": 5,
   "metadata": {},
   "outputs": [],
   "source": [
    "import numpy as np\n",
    "import pandas as pd\n",
    "import scipy.stats as stats\n",
    "import os"
   ]
  },
  {
   "cell_type": "code",
   "execution_count": 6,
   "metadata": {},
   "outputs": [
    {
     "data": {
      "text/plain": [
       "<function nt.getcwd()>"
      ]
     },
     "execution_count": 6,
     "metadata": {},
     "output_type": "execute_result"
    }
   ],
   "source": [
    "os.chdir (\"C:\\\\Users\\\\saharlamuhumedhussei\")\n",
    "os.getcwd"
   ]
  },
  {
   "cell_type": "code",
   "execution_count": 12,
   "metadata": {},
   "outputs": [],
   "source": [
    "insurance = pd.read_csv(r\"C:\\Users\\saharlamuhumedhussei\\OneDrive - HvA\\Desktop\\Python\\Insurance.csv\")\n"
   ]
  },
  {
   "cell_type": "code",
   "execution_count": 13,
   "metadata": {},
   "outputs": [
    {
     "name": "stdout",
     "output_type": "stream",
     "text": [
      "      age     sex   bmi  children smoker     region  expenses\n",
      "0      19  female  27.9         0    yes  southwest  16884.92\n",
      "1      18    male  33.8         1     no  southeast   1725.55\n",
      "2      28    male  33.0         3     no  southeast   4449.46\n",
      "3      33    male  22.7         0     no  northwest  21984.47\n",
      "4      32    male  28.9         0     no  northwest   3866.86\n",
      "...   ...     ...   ...       ...    ...        ...       ...\n",
      "1333   50    male  31.0         3     no  northwest  10600.55\n",
      "1334   18  female  31.9         0     no  northeast   2205.98\n",
      "1335   18  female  36.9         0     no  southeast   1629.83\n",
      "1336   21  female  25.8         0     no  southwest   2007.95\n",
      "1337   61  female  29.1         0    yes  northwest  29141.36\n",
      "\n",
      "[1338 rows x 7 columns]\n"
     ]
    }
   ],
   "source": [
    "import pandas as pd\n",
    "\n",
    "# Path to the csv file\n",
    "file_path = r\"C:\\Users\\saharlamuhumedhussei\\OneDrive - HvA\\Desktop\\Python\\Insurance.csv\"\n",
    "\n",
    "# Read the CSV file into a DataFrame\n",
    "insurance = pd.read_csv(file_path)\n",
    "\n",
    "# Display the data\n",
    "print(insurance)\n"
   ]
  },
  {
   "cell_type": "code",
   "execution_count": 16,
   "metadata": {},
   "outputs": [
    {
     "name": "stdout",
     "output_type": "stream",
     "text": [
      "Mean Expenses for 18-30: 9397.55\n",
      "Mean Expenses for 31-40: 11639.31\n",
      "Mean Expenses for 41-50: 14782.04\n",
      "Mean Expenses for 51-60: 17062.29\n",
      "Mean Expenses for 61 and above: 21063.16\n"
     ]
    }
   ],
   "source": [
    "import pandas as pd\n",
    "\n",
    "# path to the CSV file\n",
    "file_path = r\"C:\\Users\\saharlamuhumedhussei\\OneDrive - HvA\\Desktop\\Python\\Insurance.csv\"\n",
    "\n",
    "# Read the CSV file into a DataFrame\n",
    "insurance = pd.read_csv(file_path)\n",
    "\n",
    "# Define age groups \n",
    "age_groups = {\n",
    "    '18-30': (18, 30),\n",
    "    '31-40': (31, 40),\n",
    "    '41-50': (41, 50),\n",
    "    '51-60': (51, 60),\n",
    "    '61 and above': (61, float('inf'))\n",
    "}\n",
    "\n",
    "# Calculate the mean insurance expenses for each age group\n",
    "for age_group, (min_age, max_age) in age_groups.items():\n",
    "    mean_expenses = insurance[(insurance['age'] >= min_age) & (insurance['age'] <= max_age)]['expenses'].mean()\n",
    "    print(f\"Mean Expenses for {age_group}: {mean_expenses:.2f}\")\n"
   ]
  },
  {
   "cell_type": "code",
   "execution_count": 20,
   "metadata": {},
   "outputs": [
    {
     "data": {
      "image/png": "[encoded data removed]",
      "text/plain": [
       "<Figure size 640x480 with 1 Axes>"
      ]
     },
     "metadata": {},
     "output_type": "display_data"
    }
   ],
   "source": [
    "import pandas as pd\n",
    "import matplotlib.pyplot as plt\n",
    "\n",
    "# Define the age group bins and labels\n",
    "age_bins = [18, 30, 40, 50, 60, float('inf')]\n",
    "age_labels = ['18-30', '31-40', '41-50', '51-60', '61 and above']\n",
    "\n",
    "# Create an 'AgeGroup' column based on the age bins and labels\n",
    "insurance['AgeGroup'] = pd.cut(insurance['age'], bins=age_bins, labels=age_labels, right=False)\n",
    "\n",
    "# Calculate the mean insurance expenses for each age group\n",
    "mean_expenses_by_age_group = insurance.groupby('AgeGroup')['expenses'].mean()\n",
    "\n",
    "# Create a bar plot\n",
    "plt.bar(mean_expenses_by_age_group.index, mean_expenses_by_age_group)\n",
    "plt.xlabel('Age Group')\n",
    "plt.ylabel('Mean Expenses')\n",
    "plt.title('Mean Insurance Expenses by Age Group')\n",
    "plt.show()\n"
   ]
  },
  {
   "cell_type": "code",
   "execution_count": 4,
   "metadata": {},
   "outputs": [
    {
     "name": "stdout",
     "output_type": "stream",
     "text": [
      "One-way ANOVA Test\n",
      "F-statistic: 32.29\n",
      "p-value: 0.0000\n",
      "Result: There is significant evidence to reject the null hypothesis (Ha): Age does have an effect on insurance expenses.\n"
     ]
    }
   ],
   "source": [
    "import pandas as pd\n",
    "from scipy import stats\n",
    "\n",
    "# Define age groups\n",
    "age_groups = {\n",
    "    '18-30': (18, 30),\n",
    "    '31-40': (31, 40),\n",
    "    '41-50': (41, 50),\n",
    "    '51-60': (51, 60),\n",
    "    '61 and above': (61, float('inf'))\n",
    "}\n",
    "\n",
    "grouped_data = []\n",
    "\n",
    "for group, age_range in age_groups.items():\n",
    "    group_data = insurance[(insurance['age'] >= age_range[0]) & (insurance['age'] <= age_range[1])]['expenses']\n",
    "    grouped_data.append(group_data)\n",
    "\n",
    "# Perform an ANOVA test\n",
    "f_statistic, p_value = stats.f_oneway(*grouped_data)\n",
    "\n",
    "alpha = 0.05  # Set your significance level\n",
    "\n",
    "# Print the results in an ANOVA-specific format\n",
    "print(\"One-way ANOVA Test\")\n",
    "print(f'F-statistic: {f_statistic:.2f}')\n",
    "print(f'p-value: {p_value:.4f}')\n",
    "\n",
    "if p_value < alpha:\n",
    "    print(\"Result: There is significant evidence to reject the null hypothesis (Ha): Age does have an effect on insurance expenses.\")\n",
    "else:\n",
    "    print(\"Result: Fail to reject the null hypothesis (H0): Age does not have an effect on insurance expenses.\")\n"
   ]
  }
 ],
 "metadata": {
  "kernelspec": {
   "display_name": "base",
   "language": "python",
   "name": "python3"
  },
  "language_info": {
   "codemirror_mode": {
    "name": "ipython",
    "version": 3
   },
   "file_extension": ".py",
   "mimetype": "text/x-python",
   "name": "python",
   "nbconvert_exporter": "python",
   "pygments_lexer": "ipython3",
   "version": "3.11.5"
  }
 },
 "nbformat": 4,
 "nbformat_minor": 2
}
